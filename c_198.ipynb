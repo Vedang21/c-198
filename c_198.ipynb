{
  "nbformat": 4,
  "nbformat_minor": 0,
  "metadata": {
    "colab": {
      "provenance": [],
      "authorship_tag": "ABX9TyMLwXzXe4IAI/9D7GwI274m",
      "include_colab_link": true
    },
    "kernelspec": {
      "name": "python3",
      "display_name": "Python 3"
    },
    "language_info": {
      "name": "python"
    }
  },
  "cells": [
    {
      "cell_type": "markdown",
      "metadata": {
        "id": "view-in-github",
        "colab_type": "text"
      },
      "source": [
        "<a href=\"https://colab.research.google.com/github/Vedang21/c-198/blob/main/c_198.ipynb\" target=\"_parent\"><img src=\"https://colab.research.google.com/assets/colab-badge.svg\" alt=\"Open In Colab\"/></a>"
      ]
    },
    {
      "cell_type": "code",
      "execution_count": 2,
      "metadata": {
        "colab": {
          "base_uri": "https://localhost:8080/"
        },
        "id": "bko3kzDCXJ7d",
        "outputId": "ff86bdd5-9dbd-4617-c2ce-2ce2a2ae6ed2"
      },
      "outputs": [
        {
          "output_type": "stream",
          "name": "stdout",
          "text": [
            "1\n",
            "3\n",
            "5\n",
            "7\n",
            "9\n",
            "11\n",
            "13\n",
            "15\n",
            "17\n",
            "19\n",
            "21\n",
            "23\n",
            "25\n",
            "27\n",
            "29\n",
            "31\n",
            "33\n",
            "35\n",
            "37\n",
            "39\n",
            "41\n",
            "43\n",
            "45\n",
            "47\n",
            "49\n",
            "51\n",
            "53\n",
            "55\n",
            "57\n",
            "59\n",
            "61\n",
            "63\n",
            "65\n",
            "67\n",
            "69\n",
            "71\n",
            "73\n",
            "75\n",
            "77\n",
            "79\n",
            "81\n",
            "83\n",
            "85\n",
            "87\n",
            "89\n",
            "91\n",
            "93\n",
            "95\n",
            "97\n",
            "99\n",
            "101\n",
            "103\n",
            "105\n",
            "107\n",
            "109\n",
            "111\n",
            "113\n",
            "115\n",
            "117\n",
            "119\n",
            "121\n",
            "123\n",
            "125\n",
            "127\n",
            "129\n",
            "131\n",
            "133\n",
            "135\n",
            "137\n",
            "139\n",
            "141\n",
            "143\n",
            "145\n",
            "147\n",
            "149\n",
            "151\n",
            "153\n",
            "155\n",
            "157\n",
            "159\n",
            "161\n",
            "163\n",
            "165\n",
            "167\n",
            "169\n",
            "171\n",
            "173\n",
            "175\n",
            "177\n",
            "179\n",
            "181\n",
            "183\n",
            "185\n",
            "187\n",
            "189\n",
            "191\n",
            "193\n",
            "195\n",
            "197\n",
            "199\n"
          ]
        }
      ],
      "source": [
        "count=0\n",
        "num=0\n",
        "while count<100:\n",
        "  if num %2==1:\n",
        "    print(num)\n",
        "    count+=1\n",
        "  num+=1"
      ]
    },
    {
      "cell_type": "code",
      "source": [
        "count=0\n",
        "num=1\n",
        "while count<10:\n",
        "  if num %2==0:\n",
        "    print(num)\n",
        "    count+=2\n",
        "  num+=1"
      ],
      "metadata": {
        "colab": {
          "base_uri": "https://localhost:8080/"
        },
        "id": "eQWtKzDQYI-c",
        "outputId": "8e7e2348-0b62-420d-b293-9d972e0bacb2"
      },
      "execution_count": 6,
      "outputs": [
        {
          "output_type": "stream",
          "name": "stdout",
          "text": [
            "2\n",
            "4\n",
            "6\n",
            "8\n",
            "10\n"
          ]
        }
      ]
    },
    {
      "cell_type": "code",
      "source": [
        "print(\"CALCULATOR\")\n",
        "print(\"1. Additon\")\n",
        "print(\"2. Subtraction\")\n",
        "print(\"3. Multiplication\")\n",
        "print(\"4. Division\")\n",
        "choice=int(input(\"enter your choice(1,2,3,4) : \"))\n",
        "\n",
        "if(choice>=1 & choice<=4):\n",
        "  print(\"Enter Two Numbers\")\n",
        "  n1=int(input(\"Enter The First Number ==>\"))\n",
        "  n2=int(input(\"Enter The Second Number ==>\"))\n",
        "\n",
        "  if choice==1:\n",
        "    print(f\"result==>{n1+n2}\")\n",
        "\n",
        "  elif choice==2:\n",
        "    print(f\"result==>{n1-n2}\")\n",
        "\n",
        "  elif choice==3:\n",
        "    print(f\"result==>{n1*n2}\")\n",
        "\n",
        "  else:\n",
        "    print(f\"result==>{n1/n2}\")\n",
        "else:\n",
        "  print(\"Incerroct Input\")\n"
      ],
      "metadata": {
        "colab": {
          "base_uri": "https://localhost:8080/"
        },
        "id": "Sjph1v_cY0gA",
        "outputId": "78419d8a-2ee4-45a1-b569-dc34f01eae04"
      },
      "execution_count": 7,
      "outputs": [
        {
          "output_type": "stream",
          "name": "stdout",
          "text": [
            "CALCULATOR\n",
            "1. Additon\n",
            "2. Subtraction\n",
            "3. Multiplication\n",
            "4. Division\n",
            "enter your choice(1,2,3,4) : 1\n",
            "Enter Two Numbers\n",
            "Enter The First Number ==>3091234\n",
            "Enter The Second Number ==>1234567890\n",
            "result==>1237659124\n"
          ]
        }
      ]
    }
  ]
}